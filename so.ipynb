{
 "cells": [
  {
   "cell_type": "code",
   "execution_count": 64,
   "id": "d10b4aff",
   "metadata": {},
   "outputs": [],
   "source": [
    "import pycuda.autoinit\n",
    "import pycuda.driver as drv\n",
    "import numpy as np\n",
    "from pycuda import gpuarray\n",
    "from pycuda.compiler import SourceModule\n",
    "\n",
    "ker = SourceModule(\"\"\"\n",
    "__global__ void test(float *debug_data)\n",
    "{\n",
    "    int i = threadIdx.x + blockIdx.x * blockDim.x;\n",
    "    if (i==0) for(int a=0;a<16;a++) debug_data[a]=((int)(pow(2,a))&i);\n",
    "}\n",
    "\"\"\")"
   ]
  },
  {
   "cell_type": "code",
   "execution_count": 65,
   "id": "388f0c5d",
   "metadata": {},
   "outputs": [
    {
     "name": "stdout",
     "output_type": "stream",
     "text": [
      "0.0\n",
      "0.0\n",
      "0.0\n",
      "0.0\n",
      "0.0\n",
      "0.0\n",
      "0.0\n",
      "0.0\n",
      "0.0\n",
      "0.0\n",
      "0.0\n",
      "0.0\n",
      "0.0\n",
      "0.0\n",
      "0.0\n",
      "0.0\n"
     ]
    }
   ],
   "source": [
    "gpu_test = ker.get_function(\"test\")\n",
    "\n",
    "debug_data = np.zeros(16).astype(np.float32)\n",
    "debug_data_gpu_out = gpuarray.to_gpu(debug_data)\n",
    "\n",
    "gpu_test( debug_data_gpu_out, debug_data_gpu_out, block=(1,1,1), grid=(1,1,1))\n",
    "for i in debug_data_gpu_out.get():\n",
    "    print(i)"
   ]
  }
 ],
 "metadata": {
  "kernelspec": {
   "display_name": "Python (pycuda)",
   "language": "python",
   "name": "pycuda"
  },
  "language_info": {
   "codemirror_mode": {
    "name": "ipython",
    "version": 3
   },
   "file_extension": ".py",
   "mimetype": "text/x-python",
   "name": "python",
   "nbconvert_exporter": "python",
   "pygments_lexer": "ipython3",
   "version": "3.9.7"
  }
 },
 "nbformat": 4,
 "nbformat_minor": 5
}
