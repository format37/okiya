{
 "cells": [
  {
   "cell_type": "code",
   "execution_count": 1,
   "id": "6745167c",
   "metadata": {},
   "outputs": [],
   "source": [
    "import pycuda.autoinit\n",
    "import pycuda.driver as drv\n",
    "import numpy as np\n",
    "from pycuda import gpuarray\n",
    "from pycuda.compiler import SourceModule"
   ]
  },
  {
   "cell_type": "markdown",
   "id": "9874e173",
   "metadata": {},
   "source": [
    "Построим граф всех победных комбинаций выбранного игрока настольной игры Okiya.  \n",
    "Комбинации поражения в граф включать не будем, для экономии памяти.  \n",
    "У каждой комбинации на своем ходе, будет вес, соответствующий количеству победных комбинаций в направлении финального хода.  \n",
    "Так мы сможем сортировать комбинации хода, для выбора наиболее богатой потенциальными победами комбинации."
   ]
  },
  {
   "cell_type": "markdown",
   "id": "c01609bf",
   "metadata": {},
   "source": [
    "В игре два игрока. У каждого игрока свой граф побед.  \n",
    "Размер поля 4 на 4 клетки.  \n",
    "Возможно 16 ходов, по 8 на каждого игрока.  \n",
    "Первым ходит игрок 0, Вторым игрок 1."
   ]
  },
  {
   "cell_type": "markdown",
   "id": "3a9b0819",
   "metadata": {},
   "source": [
    "### win_combination"
   ]
  },
  {
   "cell_type": "markdown",
   "id": "335b279e",
   "metadata": {},
   "source": [
    "Для определения победной комбинации удобно использовать побитовый оператор И.  \n",
    "Например, десятичное 51865 это двоичное 1100101010011001. Если разрезать на 4 части получится комбинация:  \n",
    "1100  \n",
    "1010  \n",
    "1001  \n",
    "1001  \n",
    "Вертикальная линия слева - победная комбинация.  \n",
    "Побитовый И действует как оператор умножения, умножая 1й бит слева на 1й бит справа и так каждый бит.  \n",
    "Например, 111&010 вернёт 010. Это свойство позволяет использовать оператор И как фильтр.  \n",
    "Что бы определить есть ли полный ряд единицы в левой колонке, применим оператор И на нашем числе 1100101010011001 и шаблоне 1000100010001000.  \n",
    "В десятичном представлении это будет записано так: 51865&34952  \n",
    "Если результат будет равен 34952 значит ряд единиц есть. В противном случае нули затрут одну или несколько единиц в колонке и в результате будет уже другое число."
   ]
  },
  {
   "cell_type": "code",
   "execution_count": 2,
   "id": "5c09d611",
   "metadata": {},
   "outputs": [
    {
     "data": {
      "text/plain": [
       "32768"
      ]
     },
     "execution_count": 2,
     "metadata": {},
     "output_type": "execute_result"
    }
   ],
   "source": [
    "51865&32768"
   ]
  },
  {
   "cell_type": "markdown",
   "id": "17fba5da",
   "metadata": {},
   "source": [
    "Опишем условие для каждой строки, каждой колонки и для квадратных победных комбинаций."
   ]
  },
  {
   "cell_type": "code",
   "execution_count": 3,
   "id": "3153bd1a",
   "metadata": {},
   "outputs": [],
   "source": [
    "ker = SourceModule(\"\"\"\n",
    "__device__ bool win_combination(int i)\n",
    "{\n",
    "    int win[17]={\n",
    "    61440, // row 0\n",
    "    3840,  // row 1\n",
    "    240,   // row 2\n",
    "    15,    // row 3\n",
    "    34952, // col 0\n",
    "    17476, // col 1\n",
    "    8738,  // col 2\n",
    "    4369,  // col 3\n",
    "    52224, // quad 0\n",
    "    26112, // quad 1\n",
    "    13056, // quad 2\n",
    "    3264,  // quad 3\n",
    "    1632,  // quad 4\n",
    "    816,   // quad 5\n",
    "    204,   // quad 6\n",
    "    102,   // quad 7\n",
    "    51     // quad 8\n",
    "    };\n",
    "    for (int a=0;a<17;a++) if ((i&win[a])==win[a]) return(true);    \n",
    "    return(false);\n",
    "}\n",
    "\n",
    "__global__ void last_turn(float *outvec)\n",
    "{\n",
    "    int ones = 0;\n",
    "    int a = 0;\n",
    "    \n",
    "    // Идентификатор блока-потока\n",
    "    int i = threadIdx.x + blockIdx.x * blockDim.x;\n",
    "    \n",
    "    // Убедимся, что число единиц и нулей в комбинации одинаково\n",
    "    for(a=0;a<16;a++) if ((((int)round(pow(2,a)))&i)>0) ones++;\n",
    "    \n",
    "    // Проверим, победна ли комбинация среди возможных\n",
    "    if (ones==8 && win_combination(i)) outvec[i] = 1;\n",
    "}\n",
    "\"\"\")"
   ]
  },
  {
   "cell_type": "markdown",
   "id": "9b07823e",
   "metadata": {},
   "source": [
    "### last_turn"
   ]
  },
  {
   "cell_type": "code",
   "execution_count": 4,
   "id": "e4e07d53",
   "metadata": {},
   "outputs": [
    {
     "data": {
      "text/plain": [
       "[0, 1, 0, 1, 0, 1, 0, 1, 0, 1, 0, 1, 0, 1, 0, 1]"
      ]
     },
     "execution_count": 4,
     "metadata": {},
     "output_type": "execute_result"
    }
   ],
   "source": [
    "[1 if i%2 else 0 for i in range(16)]"
   ]
  },
  {
   "cell_type": "markdown",
   "id": "30efc854",
   "metadata": {},
   "source": [
    "Последним ходит игрок 1. Определим все возможные, победные комбинации для текущего игрока на этапе последнего хода.  \n",
    "Для поля 4 на 4 возможно 2**(4 * 4) что соответствует 65536 комбинаций.  \n",
    "Используем 65536 потоков GPU. Каждый поток - уникальная комбинация поля.  \n",
    "256 блоков в 256 сетках.\n",
    "Каждая комбинация предствалена в виде int числа от 0 до 65536. Для представления в виде фишек на поле, переведем его в bin, разделим последовательность чисел на 4 части, разместив сверху вниз, например:  \n",
    "0 1 0 1  \n",
    "0 1 0 1  \n",
    "0 1 0 1  \n",
    "0 1 0 1  "
   ]
  },
  {
   "cell_type": "code",
   "execution_count": 5,
   "id": "428b1006",
   "metadata": {},
   "outputs": [
    {
     "name": "stdout",
     "output_type": "stream",
     "text": [
      "CPU times: user 731 µs, sys: 165 µs, total: 896 µs\n",
      "Wall time: 907 µs\n"
     ]
    }
   ],
   "source": [
    "combination_check_gpu = ker.get_function(\"last_turn\")\n",
    "\n",
    "combinations = np.zeros(256*256).astype(np.float32)\n",
    "combinations_gpu_out = gpuarray.to_gpu(combinations)\n",
    "\n",
    "%time combination_check_gpu( combinations_gpu_out, block=(256,1,1), grid=(256,1,1))"
   ]
  },
  {
   "cell_type": "code",
   "execution_count": 6,
   "id": "d0ae3150",
   "metadata": {},
   "outputs": [],
   "source": [
    "out_combinations = combinations_gpu_out.get()"
   ]
  },
  {
   "cell_type": "markdown",
   "id": "13699db0",
   "metadata": {},
   "source": [
    "Количество победных комбинаций:"
   ]
  },
  {
   "cell_type": "code",
   "execution_count": 7,
   "id": "7757b2a4",
   "metadata": {},
   "outputs": [
    {
     "data": {
      "text/plain": [
       "6315"
      ]
     },
     "execution_count": 7,
     "metadata": {},
     "output_type": "execute_result"
    }
   ],
   "source": [
    "np.count_nonzero(out_combinations)"
   ]
  },
  {
   "cell_type": "markdown",
   "id": "cf8b73b1",
   "metadata": {},
   "source": [
    "Посмотрим, на некоторые победные комбинации."
   ]
  },
  {
   "cell_type": "code",
   "execution_count": 8,
   "id": "cc1369c7",
   "metadata": {},
   "outputs": [],
   "source": [
    "def bin_interpretation(i):\n",
    "    clear_bin = bin(i)[2:]\n",
    "    lead_zeros = ''.join(['0' for z in range(16-len(clear_bin))])\n",
    "    return lead_zeros+clear_bin"
   ]
  },
  {
   "cell_type": "code",
   "execution_count": 9,
   "id": "b60b3bf9",
   "metadata": {},
   "outputs": [
    {
     "data": {
      "text/plain": [
       "array([  255,   383,   447, ..., 65088, 65152, 65280])"
      ]
     },
     "execution_count": 9,
     "metadata": {},
     "output_type": "execute_result"
    }
   ],
   "source": [
    "np.where(out_combinations == 1)[0]"
   ]
  },
  {
   "cell_type": "code",
   "execution_count": 10,
   "id": "726ea59a",
   "metadata": {},
   "outputs": [
    {
     "name": "stdout",
     "output_type": "stream",
     "text": [
      "\n",
      "\n",
      "0000\n",
      "0000\n",
      "1111\n",
      "1111\n",
      "\n",
      "\n",
      "0000\n",
      "0001\n",
      "0111\n",
      "1111\n",
      "\n",
      "\n",
      "0000\n",
      "0001\n",
      "1011\n",
      "1111\n"
     ]
    }
   ],
   "source": [
    "for i in np.where(out_combinations == 1)[0][:3]:\n",
    "    row = []\n",
    "    i_bin = bin_interpretation(i)\n",
    "    row.append(i_bin[:4])\n",
    "    row.append(i_bin[4:8])\n",
    "    row.append(i_bin[8:12])\n",
    "    row.append(i_bin[12:])\n",
    "    print('\\n')\n",
    "    for r in row:\n",
    "        print(r)"
   ]
  }
 ],
 "metadata": {
  "kernelspec": {
   "display_name": "Python (pycuda)",
   "language": "python",
   "name": "pycuda"
  },
  "language_info": {
   "codemirror_mode": {
    "name": "ipython",
    "version": 3
   },
   "file_extension": ".py",
   "mimetype": "text/x-python",
   "name": "python",
   "nbconvert_exporter": "python",
   "pygments_lexer": "ipython3",
   "version": "3.9.7"
  }
 },
 "nbformat": 4,
 "nbformat_minor": 5
}
