{
 "cells": [
  {
   "cell_type": "code",
   "execution_count": 1,
   "id": "6745167c",
   "metadata": {},
   "outputs": [],
   "source": [
    "import pycuda.autoinit\n",
    "import pycuda.driver as drv\n",
    "import numpy as np\n",
    "from pycuda import gpuarray\n",
    "from pycuda.compiler import SourceModule"
   ]
  },
  {
   "cell_type": "markdown",
   "id": "ec96e0a5",
   "metadata": {},
   "source": [
    "## 16"
   ]
  },
  {
   "cell_type": "markdown",
   "id": "9874e173",
   "metadata": {},
   "source": [
    "Построим граф всех победных комбинаций выбранного игрока настольной игры Okiya.  \n",
    "Комбинации поражения в граф включать не будем, для экономии памяти.  \n",
    "У каждой комбинации на своем ходе, будет вес, соответствующий количеству победных комбинаций в направлении финального хода.  \n",
    "Так мы сможем сортировать комбинации хода, для выбора наиболее богатой потенциальными победами комбинации."
   ]
  },
  {
   "cell_type": "markdown",
   "id": "c01609bf",
   "metadata": {},
   "source": [
    "В игре два игрока. У каждого игрока свой граф побед.  \n",
    "Размер поля 4 на 4 клетки.  \n",
    "Возможно 16 ходов, по 8 на каждого игрока.  \n",
    "Первым ходит игрок 0, Вторым игрок 1."
   ]
  },
  {
   "cell_type": "markdown",
   "id": "3a9b0819",
   "metadata": {},
   "source": [
    "### win_combination"
   ]
  },
  {
   "cell_type": "markdown",
   "id": "335b279e",
   "metadata": {},
   "source": [
    "Для определения победной комбинации удобно использовать побитовый оператор И.  \n",
    "Например, десятичное 51865 это двоичное 1100101010011001. Если разрезать на 4 части получится комбинация:  \n",
    "1100  \n",
    "1010  \n",
    "1001  \n",
    "1001  \n",
    "Вертикальная линия слева - победная комбинация.  \n",
    "Побитовый И действует как оператор умножения, умножая 1й бит слева на 1й бит справа и так каждый бит.  \n",
    "Например, 111&010 вернёт 010. Это свойство позволяет использовать оператор И как фильтр.  \n",
    "Что бы определить есть ли полный ряд единицы в левой колонке, применим оператор И на нашем числе 1100101010011001 и шаблоне 1000100010001000.  \n",
    "В десятичном представлении это будет записано так: 51865&34952  \n",
    "Если результат будет равен 34952 значит ряд единиц есть. В противном случае нули затрут одну или несколько единиц в колонке и в результате будет уже другое число."
   ]
  },
  {
   "cell_type": "code",
   "execution_count": 2,
   "id": "5c09d611",
   "metadata": {},
   "outputs": [
    {
     "data": {
      "text/plain": [
       "32768"
      ]
     },
     "execution_count": 2,
     "metadata": {},
     "output_type": "execute_result"
    }
   ],
   "source": [
    "51865&32768"
   ]
  },
  {
   "cell_type": "markdown",
   "id": "17fba5da",
   "metadata": {},
   "source": [
    "Опишем условие для каждой строки, каждой колонки и для квадратных победных комбинаций."
   ]
  },
  {
   "cell_type": "code",
   "execution_count": 3,
   "id": "3153bd1a",
   "metadata": {},
   "outputs": [],
   "source": [
    "ker = SourceModule(\"\"\"\n",
    "__device__ bool win_combination(int i)\n",
    "{\n",
    "    int win[17]={\n",
    "    61440, // row 0\n",
    "    3840,  // row 1\n",
    "    240,   // row 2\n",
    "    15,    // row 3\n",
    "    34952, // col 0\n",
    "    17476, // col 1\n",
    "    8738,  // col 2\n",
    "    4369,  // col 3\n",
    "    52224, // quad 0\n",
    "    26112, // quad 1\n",
    "    13056, // quad 2\n",
    "    3264,  // quad 3\n",
    "    1632,  // quad 4\n",
    "    816,   // quad 5\n",
    "    204,   // quad 6\n",
    "    102,   // quad 7\n",
    "    51     // quad 8\n",
    "    };\n",
    "    for (int a=0;a<17;a++) if ((i&win[a])==win[a]) return(true);    \n",
    "    return(false);\n",
    "}\n",
    "\n",
    "__global__ void last_turn(float *outvec)\n",
    "{\n",
    "    int ones = 0;\n",
    "    int a = 0;\n",
    "    \n",
    "    // Идентификатор блока-потока\n",
    "    int i = threadIdx.x + blockIdx.x * blockDim.x;\n",
    "    \n",
    "    // Убедимся, что число единиц и нулей в комбинации одинаково\n",
    "    for(a=0;a<16;a++) if ((((int)round(pow(2,a)))&i)>0) ones++;\n",
    "    \n",
    "    // Проверим, победна ли комбинация среди возможных\n",
    "    if (ones==8 && win_combination(i)) outvec[i] = 1;\n",
    "}\n",
    "\"\"\")"
   ]
  },
  {
   "cell_type": "markdown",
   "id": "9b07823e",
   "metadata": {},
   "source": [
    "### last_turn"
   ]
  },
  {
   "cell_type": "code",
   "execution_count": 4,
   "id": "e4e07d53",
   "metadata": {},
   "outputs": [
    {
     "data": {
      "text/plain": [
       "[0, 1, 0, 1, 0, 1, 0, 1, 0, 1, 0, 1, 0, 1, 0, 1]"
      ]
     },
     "execution_count": 4,
     "metadata": {},
     "output_type": "execute_result"
    }
   ],
   "source": [
    "[1 if i%2 else 0 for i in range(16)]"
   ]
  },
  {
   "cell_type": "markdown",
   "id": "30efc854",
   "metadata": {},
   "source": [
    "Последним ходит игрок 1. Определим все возможные, победные комбинации для текущего игрока на этапе последнего хода.  \n",
    "Для поля 4 на 4 возможно 2**(4 * 4) что соответствует 65536 комбинаций.  \n",
    "Используем 65536 потоков GPU. Каждый поток - уникальная комбинация поля.  \n",
    "256 блоков в 256 сетках.\n",
    "Каждая комбинация предствалена в виде int числа от 0 до 65536. Для представления в виде фишек на поле, переведем его в bin, разделим последовательность чисел на 4 части, разместив сверху вниз, например:  \n",
    "0 1 0 1  \n",
    "0 1 0 1  \n",
    "0 1 0 1  \n",
    "0 1 0 1  "
   ]
  },
  {
   "cell_type": "code",
   "execution_count": 5,
   "id": "428b1006",
   "metadata": {},
   "outputs": [
    {
     "name": "stdout",
     "output_type": "stream",
     "text": [
      "CPU times: user 589 µs, sys: 236 µs, total: 825 µs\n",
      "Wall time: 747 µs\n"
     ]
    }
   ],
   "source": [
    "combination_check_gpu = ker.get_function(\"last_turn\")\n",
    "\n",
    "combinations = np.zeros(256*256).astype(np.float32)\n",
    "combinations_gpu_out = gpuarray.to_gpu(combinations)\n",
    "\n",
    "%time combination_check_gpu( combinations_gpu_out, block=(256,1,1), grid=(256,1,1))"
   ]
  },
  {
   "cell_type": "code",
   "execution_count": 6,
   "id": "d0ae3150",
   "metadata": {},
   "outputs": [],
   "source": [
    "out_combinations = combinations_gpu_out.get()"
   ]
  },
  {
   "cell_type": "markdown",
   "id": "13699db0",
   "metadata": {},
   "source": [
    "Количество победных комбинаций:"
   ]
  },
  {
   "cell_type": "code",
   "execution_count": 7,
   "id": "7757b2a4",
   "metadata": {},
   "outputs": [
    {
     "data": {
      "text/plain": [
       "6315"
      ]
     },
     "execution_count": 7,
     "metadata": {},
     "output_type": "execute_result"
    }
   ],
   "source": [
    "np.count_nonzero(out_combinations)"
   ]
  },
  {
   "cell_type": "markdown",
   "id": "cf8b73b1",
   "metadata": {},
   "source": [
    "Посмотрим, на некоторые победные комбинации."
   ]
  },
  {
   "cell_type": "code",
   "execution_count": 8,
   "id": "cc1369c7",
   "metadata": {},
   "outputs": [],
   "source": [
    "def bin_interpretation(i):\n",
    "    clear_bin = bin(i)[2:]\n",
    "    lead_zeros = ''.join(['0' for z in range(16-len(clear_bin))])\n",
    "    return lead_zeros+clear_bin"
   ]
  },
  {
   "cell_type": "code",
   "execution_count": 9,
   "id": "b60b3bf9",
   "metadata": {},
   "outputs": [
    {
     "data": {
      "text/plain": [
       "array([  255,   383,   447, ..., 65088, 65152, 65280])"
      ]
     },
     "execution_count": 9,
     "metadata": {},
     "output_type": "execute_result"
    }
   ],
   "source": [
    "np.where(out_combinations == 1)[0]"
   ]
  },
  {
   "cell_type": "code",
   "execution_count": 10,
   "id": "726ea59a",
   "metadata": {},
   "outputs": [
    {
     "name": "stdout",
     "output_type": "stream",
     "text": [
      "\n",
      "\n",
      "0000\n",
      "0000\n",
      "1111\n",
      "1111\n",
      "\n",
      "\n",
      "0000\n",
      "0001\n",
      "0111\n",
      "1111\n",
      "\n",
      "\n",
      "0000\n",
      "0001\n",
      "1011\n",
      "1111\n"
     ]
    }
   ],
   "source": [
    "for i in np.where(out_combinations == 1)[0][:3]:\n",
    "    row = []\n",
    "    i_bin = bin_interpretation(i)\n",
    "    row.append(i_bin[:4])\n",
    "    row.append(i_bin[4:8])\n",
    "    row.append(i_bin[8:12])\n",
    "    row.append(i_bin[12:])\n",
    "    print('\\n')\n",
    "    for r in row:\n",
    "        print(r)"
   ]
  },
  {
   "cell_type": "markdown",
   "id": "1409d45d",
   "metadata": {},
   "source": [
    "## 15"
   ]
  },
  {
   "cell_type": "markdown",
   "id": "827810bc",
   "metadata": {},
   "source": [
    "Настало время перейти к 15 ходу."
   ]
  },
  {
   "cell_type": "code",
   "execution_count": 11,
   "id": "8d529b23",
   "metadata": {},
   "outputs": [
    {
     "data": {
      "text/plain": [
       "[0, 1, 0, 1, 0, 1, 0, 1, 0, 1, 0, 1, 0, 1, 0, 1]"
      ]
     },
     "execution_count": 11,
     "metadata": {},
     "output_type": "execute_result"
    }
   ],
   "source": [
    "[1 if i%2 else 0 for i in range(16)]"
   ]
  },
  {
   "cell_type": "markdown",
   "id": "e504b4f1",
   "metadata": {},
   "source": [
    "Ход 0-го игрока.  \n",
    "В этот ход:  \n",
    "- Отсутствует один жетон 1-го игрока, что порождает 4 * 4 = 16 ответвлений от каждой победной комбинации  \n",
    "- Место отсутствующего жетона занимает одна из 16 карточек игры, что пораждает 16 вариантов каждого ответвления.  \n",
    "\n",
    "Так, нам потребуется 6315 * 16 * 16 потоков что бы отметить победные комбинации на 15 ход."
   ]
  },
  {
   "cell_type": "code",
   "execution_count": 12,
   "id": "68cc6a1c",
   "metadata": {},
   "outputs": [
    {
     "data": {
      "text/plain": [
       "1616640"
      ]
     },
     "execution_count": 12,
     "metadata": {},
     "output_type": "execute_result"
    }
   ],
   "source": [
    "comb_count = 6315\n",
    "empty_count = 16\n",
    "token_count = 16\n",
    "comb_count * empty_count * token_count"
   ]
  },
  {
   "cell_type": "code",
   "execution_count": 13,
   "id": "a8e5c378",
   "metadata": {},
   "outputs": [
    {
     "data": {
      "text/plain": [
       "1578.75"
      ]
     },
     "execution_count": 13,
     "metadata": {},
     "output_type": "execute_result"
    }
   ],
   "source": [
    "comb_count * empty_count * token_count / 1024"
   ]
  },
  {
   "cell_type": "code",
   "execution_count": 14,
   "id": "25fce665",
   "metadata": {},
   "outputs": [
    {
     "data": {
      "text/plain": [
       "1.0"
      ]
     },
     "execution_count": 14,
     "metadata": {},
     "output_type": "execute_result"
    }
   ],
   "source": [
    "1616640/6315/16/16"
   ]
  },
  {
   "cell_type": "markdown",
   "id": "046c4669",
   "metadata": {},
   "source": [
    "Опытным путем установлено, что GPU калькулятор 1080ti может за 1 раз заполнить массив размером 2 147 450 900 (1024 блоков и 2097120 сеток). А теоретически, максимальный размер сетки X (MAX_GRID_DIM_X): 2 147 483 647. Запас солидный.  \n",
    "Перечислим все, что в этот ход надо учесть.  \n",
    "- От жетона будет зависить, куда следующий игрок сможет положить свою фишку  \n",
    "- Победа противника = поражение игрока. Теперь надо учитывать победы не только одного игрока, но и второго, в отдельном графе.  \n",
    "Заполним 15 слой всеми вариантами, исключив невозможные.  \n",
    "Договоримся о структуре данных. Поле стало сложнее. Теперь значение каждой клетки может принимать значение от 0 до 18:  \n",
    "- 0: первый игрок  \n",
    "- 1: второй игрок  \n",
    "- 2-18: один из 16 жетонов игры\n",
    "Значит у нас набор 18-ричных значений. Посчитаем, сколько это десятичных значений, если не исключать поражения.\n",
    "Для 1го игрока смысл имеют только ходы, победившие в 16 слое. Все ходы, на более низких слоях, могут быть без победы. Мы считаем лишь все их варианты."
   ]
  },
  {
   "cell_type": "markdown",
   "id": "31165c1c",
   "metadata": {},
   "source": [
    "Для вычисления победных комбинаций 15 хода, передадим в ядро три числа:  \n",
    "- Победная комбинация 16 хода: 1 из 6315 значений  \n",
    "- Позиция клетки жетона игры: 1 из 16  \n",
    "- Номер жетона игры: 1 из 16  \n",
    "\n",
    "Для передачи в ядро, закодируем эти числа в одном десятичном числе, разбив его на группы в двоичном представлении."
   ]
  },
  {
   "cell_type": "code",
   "execution_count": 15,
   "id": "73ee4023",
   "metadata": {},
   "outputs": [
    {
     "name": "stdout",
     "output_type": "stream",
     "text": [
      "0b1100010101011 0b10000 0b10000\n"
     ]
    }
   ],
   "source": [
    "print( bin(6315), bin(16), bin(16) )"
   ]
  },
  {
   "cell_type": "code",
   "execution_count": 16,
   "id": "b5988694",
   "metadata": {},
   "outputs": [
    {
     "data": {
      "text/plain": [
       "(13, 5, 5)"
      ]
     },
     "execution_count": 16,
     "metadata": {},
     "output_type": "execute_result"
    }
   ],
   "source": [
    "len('1100010101011'), len('10000'), len('10000')"
   ]
  },
  {
   "cell_type": "code",
   "execution_count": 17,
   "id": "09c2894d",
   "metadata": {},
   "outputs": [
    {
     "data": {
      "text/plain": [
       "8388607"
      ]
     },
     "execution_count": 17,
     "metadata": {},
     "output_type": "execute_result"
    }
   ],
   "source": [
    "int(''.join(['1' for i in range(13+5+5)]),2)"
   ]
  },
  {
   "cell_type": "markdown",
   "id": "6ac7126f",
   "metadata": {},
   "source": [
    "Всего 8 миллионов. Это нам вполне по силам. Опишем функцию распаковки"
   ]
  },
  {
   "cell_type": "code",
   "execution_count": 18,
   "id": "476611fc",
   "metadata": {},
   "outputs": [
    {
     "name": "stdout",
     "output_type": "stream",
     "text": [
      "10000000000101001010100 4196948\n",
      "0b1000000000010 4098\n",
      "0b10010 18\n",
      "0b10100 20\n"
     ]
    }
   ],
   "source": [
    "def unzip(full_int):\n",
    "    part_a = full_int>>(5+5)\n",
    "    part_b = full_int>>5&int('11111',2)\n",
    "    part_c = full_int&int('11111',2)\n",
    "    return part_a, part_b, part_c\n",
    "\n",
    "# zip\n",
    "full_bin = '1000000000010'+'10010'+'10100'\n",
    "full_int = int(full_bin, 2)\n",
    "print(full_bin, full_int)\n",
    "# unzip\n",
    "part_a, part_b, part_c = unzip(full_int)\n",
    "print(bin(part_a), part_a)\n",
    "print(bin(part_b), part_b)\n",
    "print(bin(part_c), part_c)"
   ]
  },
  {
   "cell_type": "markdown",
   "id": "bf021b3b",
   "metadata": {},
   "source": [
    "Теперь в каждом ядре мы будем знать, к какой комбинации 16го хода оно относится, какая клетка свободна, какая на клетке фишка игры.  \n",
    "Начиная с 15 хода мы не будем удалять проигрышные комбинации. Но нам предстоит снижать их вес.\n",
    "Определим, сколько сеток нам понадобится на 1024 блока.  \n",
    "Известно что максимальный набор комбинаций содержит в бинарном представлении 23 разряда:"
   ]
  },
  {
   "cell_type": "code",
   "execution_count": 19,
   "id": "5633a302",
   "metadata": {},
   "outputs": [
    {
     "data": {
      "text/plain": [
       "(23, 8388607)"
      ]
     },
     "execution_count": 19,
     "metadata": {},
     "output_type": "execute_result"
    }
   ],
   "source": [
    "13+5+5, int(''.join(['1' for i in range(13+5+5)]),2)"
   ]
  },
  {
   "cell_type": "markdown",
   "id": "ffe84b4f",
   "metadata": {},
   "source": [
    "Используем максимум блоков: 1024. Сколько сеток потребуется для описания чаисла 8388607 с 1024 блоками?"
   ]
  },
  {
   "cell_type": "code",
   "execution_count": 20,
   "id": "84467ef0",
   "metadata": {},
   "outputs": [
    {
     "data": {
      "text/plain": [
       "8191.9990234375"
      ]
     },
     "execution_count": 20,
     "metadata": {},
     "output_type": "execute_result"
    }
   ],
   "source": [
    "8388607/1024"
   ]
  },
  {
   "cell_type": "markdown",
   "id": "f7b8c930",
   "metadata": {},
   "source": [
    "Округлим в большую сторону"
   ]
  },
  {
   "cell_type": "code",
   "execution_count": 21,
   "id": "cf90aca7",
   "metadata": {},
   "outputs": [
    {
     "name": "stdout",
     "output_type": "stream",
     "text": [
      "8192 Сетки потребуется для охвата 8388608 комбинаций при 1024 блоках\n"
     ]
    }
   ],
   "source": [
    "print(8192, 'Сетки потребуется для охвата', 8192*1024, 'комбинаций при', 1024, 'блоках')"
   ]
  },
  {
   "cell_type": "markdown",
   "id": "5cf2c4c4",
   "metadata": {},
   "source": [
    "Данные:  \n",
    "- Смещения комбинаций 16 хода: int[6315]\n",
    "- Веса комбинаций 16 хода: int[1616640]\n",
    "- Смещения комбинаций 15 хода: int[1616640]\n",
    "- Веса комбинаций 15 хода: int[1616640] # Количество комбинаций 15-го хода: 6315 * 16 * 16 = 1616640  \n",
    "\n",
    "Алгоритм: \n",
    "- Вес 15 хода копируется с веса 16 хода\n",
    "- Если комбинация в разрешенном интервале и победна для игрока 1, добавляем вес"
   ]
  },
  {
   "cell_type": "code",
   "execution_count": 22,
   "id": "8aa025fc",
   "metadata": {},
   "outputs": [
    {
     "data": {
      "text/plain": [
       "6315"
      ]
     },
     "execution_count": 22,
     "metadata": {},
     "output_type": "execute_result"
    }
   ],
   "source": [
    "bias_16 = np.where(out_combinations == 1)[0]\n",
    "len(bias_16)"
   ]
  },
  {
   "cell_type": "code",
   "execution_count": 23,
   "id": "923e2747",
   "metadata": {},
   "outputs": [],
   "source": [
    "weight_16 = np.ones(len(bias_16)).astype(np.float32)"
   ]
  },
  {
   "cell_type": "code",
   "execution_count": 24,
   "id": "2ec19307",
   "metadata": {},
   "outputs": [],
   "source": [
    "weight_15 = np.zeros(6315 * 16 * 16)"
   ]
  },
  {
   "cell_type": "code",
   "execution_count": 25,
   "id": "fae2dcba",
   "metadata": {},
   "outputs": [],
   "source": [
    "bias_15 = np.zeros(6315 * 16 * 16)"
   ]
  },
  {
   "cell_type": "code",
   "execution_count": 30,
   "id": "bf216846",
   "metadata": {},
   "outputs": [
    {
     "name": "stderr",
     "output_type": "stream",
     "text": [
      "/tmp/ipykernel_38320/515248658.py:1: UserWarning: The CUDA compiler succeeded, but said the following:\n",
      "kernel.cu(31): warning #177-D: variable \"i\" was declared but never referenced\n",
      "\n",
      "\n",
      "  ker = SourceModule(\"\"\"\n"
     ]
    }
   ],
   "source": [
    "ker = SourceModule(\"\"\"\n",
    "__device__ bool win_combination(int i)\n",
    "{\n",
    "    int win[17]={\n",
    "    61440, // row 0\n",
    "    3840,  // row 1\n",
    "    240,   // row 2\n",
    "    15,    // row 3\n",
    "    34952, // col 0\n",
    "    17476, // col 1\n",
    "    8738,  // col 2\n",
    "    4369,  // col 3\n",
    "    52224, // quad 0\n",
    "    26112, // quad 1\n",
    "    13056, // quad 2\n",
    "    3264,  // quad 3\n",
    "    1632,  // quad 4\n",
    "    816,   // quad 5\n",
    "    204,   // quad 6\n",
    "    102,   // quad 7\n",
    "    51     // quad 8\n",
    "    };\n",
    "    for (int a=0;a<17;a++) if ((i&win[a])==win[a]) return(true);    \n",
    "    return(false);\n",
    "}\n",
    "\n",
    "__global__ void turn(float *bias_16, float *weight_16, float *bias_15, float *weight_15)\n",
    "{   \n",
    "    // Идентификатор блока-потока\n",
    "    int i = threadIdx.x + blockIdx.x * blockDim.x;\n",
    "}\n",
    "\"\"\")"
   ]
  },
  {
   "cell_type": "code",
   "execution_count": 31,
   "id": "942eb93d",
   "metadata": {},
   "outputs": [],
   "source": [
    "turn_15 = ker.get_function(\"turn\")"
   ]
  },
  {
   "cell_type": "code",
   "execution_count": 34,
   "id": "b241b1f9",
   "metadata": {
    "scrolled": true
   },
   "outputs": [
    {
     "name": "stdout",
     "output_type": "stream",
     "text": [
      "CPU times: user 67 µs, sys: 86 µs, total: 153 µs\n",
      "Wall time: 158 µs\n"
     ]
    }
   ],
   "source": [
    "bias_16_gpu = gpuarray.to_gpu(bias_16)\n",
    "weight_16_gpu = gpuarray.to_gpu(weight_16)\n",
    "bias_15_gpu = gpuarray.to_gpu(bias_15)\n",
    "weight_15_gpu = gpuarray.to_gpu(weight_15)\n",
    "\n",
    "%time combination_check_gpu(bias_16_gpu,weight_16_gpu,bias_15_gpu,weight_15_gpu,block=(1024,1,1), grid=(8192,1,1))"
   ]
  }
 ],
 "metadata": {
  "kernelspec": {
   "display_name": "Python (pycuda)",
   "language": "python",
   "name": "pycuda"
  },
  "language_info": {
   "codemirror_mode": {
    "name": "ipython",
    "version": 3
   },
   "file_extension": ".py",
   "mimetype": "text/x-python",
   "name": "python",
   "nbconvert_exporter": "python",
   "pygments_lexer": "ipython3",
   "version": "3.9.7"
  }
 },
 "nbformat": 4,
 "nbformat_minor": 5
}
