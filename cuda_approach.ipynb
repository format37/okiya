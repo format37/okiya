{
 "cells": [
  {
   "cell_type": "code",
   "execution_count": 1,
   "id": "6745167c",
   "metadata": {},
   "outputs": [],
   "source": [
    "import pycuda.autoinit\n",
    "import pycuda.driver as drv\n",
    "import numpy as np\n",
    "from pycuda import gpuarray\n",
    "from pycuda.compiler import SourceModule"
   ]
  },
  {
   "cell_type": "markdown",
   "id": "c01609bf",
   "metadata": {},
   "source": [
    "Each kernel is unique field comnbination  \n",
    "Up to 65536 combinations"
   ]
  },
  {
   "cell_type": "code",
   "execution_count": 2,
   "id": "3153bd1a",
   "metadata": {},
   "outputs": [],
   "source": [
    "ker = SourceModule(\"\"\"\n",
    "__global__ void combination_check(float *outvec)\n",
    "{\n",
    "    int i = threadIdx.x + blockIdx.x * blockDim.x;\n",
    "    int a, c, s;\n",
    "    int b = 0;\n",
    "    int ones = 0;\n",
    "    for(s=0;s<16;s++)\n",
    "    {                \n",
    "        a = i>>(16-s);        \n",
    "        c = a - b;\n",
    "        b = b+a;\n",
    "        if (c == 1) ones += 1;\n",
    "    }   \n",
    "    if (ones==8) outvec[i] = 1;\n",
    "}\n",
    "\"\"\")"
   ]
  },
  {
   "cell_type": "code",
   "execution_count": 3,
   "id": "428b1006",
   "metadata": {},
   "outputs": [
    {
     "name": "stdout",
     "output_type": "stream",
     "text": [
      "CPU times: user 631 µs, sys: 383 µs, total: 1.01 ms\n",
      "Wall time: 715 µs\n"
     ]
    }
   ],
   "source": [
    "combination_check_gpu = ker.get_function(\"combination_check\")\n",
    "\n",
    "combinations = np.zeros(256*256).astype(np.float32)\n",
    "combinations_gpu_in = gpuarray.to_gpu(combinations)\n",
    "combinations_gpu_out = gpuarray.empty_like(combinations_gpu_in)\n",
    "\n",
    "%time combination_check_gpu( combinations_gpu_out,  block=(256,1,1), grid=(256,1,1))"
   ]
  },
  {
   "cell_type": "code",
   "execution_count": 4,
   "id": "d0ae3150",
   "metadata": {},
   "outputs": [],
   "source": [
    "out_combinations = combinations_gpu_out.get()"
   ]
  },
  {
   "cell_type": "code",
   "execution_count": 5,
   "id": "7757b2a4",
   "metadata": {},
   "outputs": [
    {
     "data": {
      "text/plain": [
       "256"
      ]
     },
     "execution_count": 5,
     "metadata": {},
     "output_type": "execute_result"
    }
   ],
   "source": [
    "np.count_nonzero(out_combinations)"
   ]
  }
 ],
 "metadata": {
  "kernelspec": {
   "display_name": "Python (pycuda)",
   "language": "python",
   "name": "pycuda"
  },
  "language_info": {
   "codemirror_mode": {
    "name": "ipython",
    "version": 3
   },
   "file_extension": ".py",
   "mimetype": "text/x-python",
   "name": "python",
   "nbconvert_exporter": "python",
   "pygments_lexer": "ipython3",
   "version": "3.9.7"
  }
 },
 "nbformat": 4,
 "nbformat_minor": 5
}
